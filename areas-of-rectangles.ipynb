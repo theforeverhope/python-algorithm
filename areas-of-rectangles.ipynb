{
 "cells": [
  {
   "cell_type": "markdown",
   "metadata": {},
   "source": [
    "## Compute the total area of multiple rectangles"
   ]
  },
  {
   "cell_type": "code",
   "execution_count": 147,
   "metadata": {},
   "outputs": [
    {
     "name": "stdout",
     "output_type": "stream",
     "text": [
      "Totol areas of rectangles described in nodes: 11\n",
      "Totol areas of rectangles described in nodes2: 39.77\n"
     ]
    }
   ],
   "source": [
    "import numpy as np\n",
    "\n",
    "# use list to construct datas\n",
    "# nodes = [[1_x1, 1_y1, 1_x2, 1_y2], ... , [n_x1, n_y1, n_x2, n_y2]]\n",
    "def rec_area_union(nodes):\n",
    "    x = []\n",
    "    y = []\n",
    "    for node in nodes:\n",
    "        x.append(node[0])\n",
    "        y.append(node[1])\n",
    "        x.append(node[2])\n",
    "        y.append(node[3])\n",
    "\n",
    "    x = list(set(x))\n",
    "    x.sort()\n",
    "    y = list(set(y))\n",
    "    y.sort()\n",
    "    \n",
    "    # mark the area covered by nodes in area_map\n",
    "    area_map = [[0 for col in range(len(y))] for row in range(len(x))]\n",
    "    for node in nodes:\n",
    "        left_x = x.index(node[0])\n",
    "        right_x = x.index(node[2])\n",
    "        upper_y = y.index(node[1])\n",
    "        down_y = y.index(node[3])\n",
    "\n",
    "        for x_ind in range(left_x, right_x):\n",
    "            for y_ind in range(upper_y, down_y):\n",
    "                # remove duplicate areas by keeping setting them to one\n",
    "                area_map[x_ind][y_ind] = 1\n",
    "    \n",
    "    area_sum = 0\n",
    "    for row in range(len(area_map) - 1):\n",
    "        for col in range(len(area_map[0]) - 1):\n",
    "            if area_map[row][col]:\n",
    "                area_sum += (x[row + 1] - x[row]) * (y[col + 1] - y[col]) \n",
    "        \n",
    "    return area_sum\n",
    "\n",
    "# test code\n",
    "nodes = [\n",
    "        [1,1,2,5],\n",
    "        [1,2,4,4],\n",
    "        [3,1,5,3]\n",
    "    ]\n",
    "\n",
    "nodes2 = [\n",
    "        [5.2,7.9,10.7,9.8],\n",
    "        [2.3,4.9,8.8,8.4],\n",
    "        [12.5,11.1,15.6,13.8]\n",
    "    ]\n",
    "\n",
    "print('Totol areas of rectangles described in nodes: ' + str(rec_area_union(nodes)))\n",
    "print('Totol areas of rectangles described in nodes2: ' + str(rec_area_union(nodes2)))"
   ]
  },
  {
   "cell_type": "code",
   "execution_count": 144,
   "metadata": {},
   "outputs": [
    {
     "data": {
      "image/png": "[encoded data removed]",
      "text/plain": [
       "<matplotlib.figure.Figure at 0x11b9e7710>"
      ]
     },
     "metadata": {},
     "output_type": "display_data"
    },
    {
     "data": {
      "image/png": "[encoded data removed]",
      "text/plain": [
       "<matplotlib.figure.Figure at 0x11b715450>"
      ]
     },
     "metadata": {},
     "output_type": "display_data"
    }
   ],
   "source": [
    "# draw the picture of the whole area\n",
    "import matplotlib.pyplot as plt\n",
    "import matplotlib.patches as patches\n",
    "\n",
    "color = ['red', 'orange', 'green']\n",
    "\n",
    "fig1 = plt.figure()\n",
    "ax1 = fig1.add_subplot(111)\n",
    "ax1.grid(which='major', axis='x', linewidth=2, linestyle=':', color='0.75')\n",
    "ax1.grid(which='major', axis='y', linewidth=2, linestyle=':', color='0.75')\n",
    "ax1.set_xbound(0, 5)\n",
    "ax1.set_ybound(0, 5)\n",
    "c_ind = 0\n",
    "for node in nodes:\n",
    "    rect = plt.Rectangle(\n",
    "        (node[0], node[1]),   # (x,y)\n",
    "        node[2] - node[0],    # width\n",
    "        node[3] - node[1],    # height\n",
    "        edgecolor = color[c_ind],  # color of edge\n",
    "        facecolor = 'white'        # fill color\n",
    "    )\n",
    "    ax1.add_patch(rect)\n",
    "    c_ind += 1\n",
    "    \n",
    "fig2 = plt.figure()\n",
    "ax2 = fig2.add_subplot(111)\n",
    "ax2.set_xbound(0, 16)\n",
    "ax2.set_ybound(0, 16)\n",
    "c_index = 0\n",
    "for node in nodes2:\n",
    "    rect = plt.Rectangle(\n",
    "        (node[0], node[1]),   # (x,y)\n",
    "        node[2] - node[0],    # width\n",
    "        node[3] - node[1],    # height\n",
    "        edgecolor = color[c_index],  # color of edge\n",
    "        facecolor = 'white'        # fill color\n",
    "    )\n",
    "    ax2.add_patch(rect)\n",
    "    c_index += 1\n",
    "    \n",
    "\n",
    "plt.show()"
   ]
  }
 ],
 "metadata": {
  "kernelspec": {
   "display_name": "Python 2",
   "language": "python",
   "name": "python2"
  },
  "language_info": {
   "codemirror_mode": {
    "name": "ipython",
    "version": 2
   },
   "file_extension": ".py",
   "mimetype": "text/x-python",
   "name": "python",
   "nbconvert_exporter": "python",
   "pygments_lexer": "ipython2",
   "version": "2.7.13"
  }
 },
 "nbformat": 4,
 "nbformat_minor": 2
}
